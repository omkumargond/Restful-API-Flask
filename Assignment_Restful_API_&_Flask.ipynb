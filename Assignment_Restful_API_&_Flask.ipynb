{
  "nbformat": 4,
  "nbformat_minor": 0,
  "metadata": {
    "colab": {
      "provenance": []
    },
    "kernelspec": {
      "name": "python3",
      "display_name": "Python 3"
    },
    "language_info": {
      "name": "python"
    }
  },
  "cells": [
    {
      "cell_type": "markdown",
      "source": [
        "***Restful API & Flask***"
      ],
      "metadata": {
        "id": "5DEeiLYQ6PQY"
      }
    },
    {
      "cell_type": "markdown",
      "source": [
        "1. What is a RESTful API?\n",
        "- A RESTful API is a way for two computer systems to talk to each other using the internet. It follows a set of rules called REST (Representational State Transfer). RESTful APIs mostly use the HTTP protocol, like the websites we browse.\n",
        "\n",
        "2. Explain the concept of API specification.\n",
        "- An API specification is like a blueprint or instruction manual that tells us how to use an API.\n",
        "\n",
        "3. What is Flask, and why is it popular for building APIs?\n",
        "- Flask is a Python web framework that helps us build websites and APIs easily. It’s super lightweight and simple to use, especially for beginners.\n",
        "\n",
        " You can think of Flask as a tool that lets us create web applications and RESTful APIs without writing a lot of complicated code.\n",
        "\n",
        "4. What is routing in Flask?\n",
        "- Routing in Flask means connecting a URL to a function in your Python code.\n",
        "\n",
        " When someone visits a certain URL in the browser (like /home), Flask knows which function to run because of the route.\n",
        "\n",
        "5. How do you create a simple Flask application?\n",
        "-  Steps to Create a Flask Application:\n",
        "Import Flask:\n",
        "First, we import the Flask class from the flask module.\n",
        "\n",
        " Create an App Instance:\n",
        "We create an object of the Flask class. This object is the core of our application.\n",
        "\n",
        " Define Routes:\n",
        "We use the @app.route() decorator to define different URL paths. Each route is connected to a Python function that runs when that URL is accessed.\n",
        "\n",
        " Run the Application:\n",
        "We use app.run() to start the Flask development server. This allows us to access the app through a browser at http://localhost:5000.\n",
        "\n",
        "6. What are HTTP methods used in RESTful APIs?\n",
        "- In RESTful APIs, we use HTTP methods to perform different actions on resources like users, products, posts, etc.\n",
        "Each method tells the server what kind of operation we want to do.\n",
        "\n",
        "7. What is the purpose of the @app.route() decorator in Flask?\n",
        "- In Flask, the @app.route() decorator is used to link a URL path to a specific function. It tells Flask which function to run when a user visits a particular route (web address).\n",
        "\n",
        "8. What is the difference between GET and POST HTTP methods?\n",
        "- In RESTful APIs, GET and POST are two important HTTP methods. They are used to perform different types of actions on data.\n",
        "\n",
        "9. How do you handle errors in Flask APIs?\n",
        "- In Flask APIs, error handling means giving proper messages or responses when something goes wrong — like a page not found or wrong input.\n",
        "\n",
        " Instead of crashing the app or showing a confusing error, we return a clean and helpful message (usually in JSON).\n",
        "\n",
        "10. How do you connect Flask to a SQL database?\n",
        "- To connect Flask with a SQL database, we usually use an ORM (Object Relational Mapper) like SQLAlchemy. It helps us work with databases using Python code instead of writing raw SQL queries.\n",
        "\n",
        "11. What is the role of Flask-SQLAlchemy?\n",
        "- Flask-SQLAlchemy is a library that helps us connect Flask with a SQL database easily. It works as a bridge between Flask (Python) and databases like SQLite, MySQL, or PostgreSQL.\n",
        "\n",
        "12. What are Flask blueprints, and how are they useful?\n",
        "- In Flask, Blueprints are a way to organize large applications by splitting the app into smaller parts or modules.\n",
        "\n",
        "13. What is the purpose of Flask's request object?\n",
        "- In Flask, the request object is used to get data from the client (like a browser or mobile app) when it sends something to the server.\n",
        "\n",
        "14. How do you create a RESTful API endpoint using Flask?\n",
        "- In Flask, creating a RESTful API endpoint means creating a URL route that can respond to HTTP methods like GET, POST, PUT, and DELETE.\n",
        "\n",
        "15. What is the purpose of Flask's jsonify() function?\n",
        "- In Flask, the jsonify() function is used to convert Python data (like dictionaries or lists) into JSON format, which is commonly used in APIs.\n",
        "\n",
        "16. Explain Flask’s url_for() function.\n",
        "- In Flask, the url_for() function is used to build the URL for a specific function (route) in your app. Instead of writing the URL manually, Flask finds it for you using the function name.\n",
        "\n",
        "17. How does Flask handle static files (CSS, JavaScript, etc.)?\n",
        "- In Flask, static files like CSS, JavaScript, and images are placed inside a folder named static/. Flask knows this is the place to look for files that don’t change — like stylesheets, scripts, and logos.\n",
        "\n",
        "18. What is an API specification, and how does it help in building a Flask API?\n",
        "- An API specification is a detailed plan or blueprint that describes how an API should work. It explains:\n",
        "\n",
        " What endpoints are available\n",
        "\n",
        " What methods (GET, POST, etc.) are used\n",
        "\n",
        " What data should be sent or received\n",
        "\n",
        " What the response format looks like (usually JSON)\n",
        "\n",
        "19. What are HTTP status codes, and why are they important in a Flask API?\n",
        "- HTTP status codes are numbers that the server (like your Flask API) sends back to the client (like a browser or app) to show if a request was successful, had an error, or needs action.\n",
        "\n",
        "20.  How do you handle POST requests in Flask?\n",
        "- In Flask, POST requests are used when you want to send data to the server, usually to create or submit something — like a form, or adding a new record in a database.\n",
        "\n",
        " To handle a POST request, you need to:\n",
        "\n",
        " Create a route using @app.route()\n",
        "\n",
        " Set methods=['POST']\n",
        "\n",
        " Use request to get the data sent\n",
        "\n",
        "21. How would you secure a Flask API?\n",
        "- Securing a Flask API means protecting it from unauthorized users, hackers, and bad data. This is very important when your API is public or deals with personal or important data.\n",
        "\n",
        "22. What is the significance of the Flask-RESTful extension?\n",
        "- Flask-RESTful is an extension for Flask that helps you build REST APIs more easily and cleanly. It adds extra tools that make your code shorter, more organized, and readable, especially when working with multiple API routes.\n",
        "\n",
        "23. What is the role of Flask’s session object?\n",
        "- In Flask, the session object is used to store information about a user across multiple requests. It helps the app \"remember\" the user, like keeping them logged in or saving temporary data during their visit.\n",
        "\n"
      ],
      "metadata": {
        "id": "74SPSC1K6ykq"
      }
    },
    {
      "cell_type": "code",
      "source": [
        "#Practical"
      ],
      "metadata": {
        "id": "n6ZuqNdPANWZ"
      },
      "execution_count": 2,
      "outputs": []
    },
    {
      "cell_type": "code",
      "source": [
        "#1. How do you create a basic Flask application?\n",
        "'''\n",
        "from flask import Flask\n",
        "\n",
        "app = Flask(__name__)  # Create the app\n",
        "\n",
        "@app.route('/')         # Define route\n",
        "def home():\n",
        "    return \"Hello, Flask!\"  # Response\n",
        "\n",
        "if __name__ == '__main__':\n",
        "    app.run(debug=True)  # Run the app\n",
        "'''"
      ],
      "metadata": {
        "colab": {
          "base_uri": "https://localhost:8080/",
          "height": 53
        },
        "id": "WMYdvssJAVye",
        "outputId": "e8f28d8d-98d4-4032-e07d-a620f1c33159"
      },
      "execution_count": 3,
      "outputs": [
        {
          "output_type": "execute_result",
          "data": {
            "text/plain": [
              "'\\nfrom flask import Flask\\n\\napp = Flask(__name__)  # Create the app\\n\\n@app.route(\\'/\\')         # Define route\\ndef home():\\n    return \"Hello, Flask!\"  # Response\\n\\nif __name__ == \\'__main__\\':\\n    app.run(debug=True)  # Run the app\\n'"
            ],
            "application/vnd.google.colaboratory.intrinsic+json": {
              "type": "string"
            }
          },
          "metadata": {},
          "execution_count": 3
        }
      ]
    },
    {
      "cell_type": "code",
      "source": [
        "#2. How do you serve static files like images or CSS in Flask?\n",
        "'''\n",
        "from flask import Flask, render_template\n",
        "\n",
        "app = Flask(__name__)\n",
        "\n",
        "@app.route('/')\n",
        "def home():\n",
        "    return render_template('index.html')\n",
        "\n",
        "if __name__ == '__main__':\n",
        "    app.run(debug=True)\n",
        "\n",
        "'''"
      ],
      "metadata": {
        "colab": {
          "base_uri": "https://localhost:8080/",
          "height": 53
        },
        "id": "F4lhKNuDAi_s",
        "outputId": "9e511f44-da77-4796-ee83-955778777361"
      },
      "execution_count": 21,
      "outputs": [
        {
          "output_type": "execute_result",
          "data": {
            "text/plain": [
              "\"\\nfrom flask import Flask, render_template\\n\\napp = Flask(__name__)\\n\\n@app.route('/')\\ndef home():\\n    return render_template('index.html')\\n\\nif __name__ == '__main__':\\n    app.run(debug=True)\\n\\n\""
            ],
            "application/vnd.google.colaboratory.intrinsic+json": {
              "type": "string"
            }
          },
          "metadata": {},
          "execution_count": 21
        }
      ]
    },
    {
      "cell_type": "code",
      "source": [
        "#3. How do you define different routes with different HTTP methods in Flask?\n",
        "'''\n",
        "from flask import Flask, request\n",
        "\n",
        "app = Flask(__name__)\n",
        "\n",
        "# Route for GET request\n",
        "@app.route('/hello', methods=['GET'])\n",
        "def hello():\n",
        "    return \"Hello, this is a GET request\"\n",
        "\n",
        "# Route for POST request\n",
        "@app.route('/submit', methods=['POST'])\n",
        "def submit():\n",
        "    data = request.form['name']\n",
        "    return f\"Hello, {data}! This is a POST request\"\n",
        "'''\n"
      ],
      "metadata": {
        "colab": {
          "base_uri": "https://localhost:8080/",
          "height": 70
        },
        "id": "I-9UZd4PA8Ae",
        "outputId": "690086fb-7361-429f-9853-bfd059e75d5f"
      },
      "execution_count": 5,
      "outputs": [
        {
          "output_type": "execute_result",
          "data": {
            "text/plain": [
              "'\\nfrom flask import Flask, request\\n\\napp = Flask(__name__)\\n\\n# Route for GET request\\n@app.route(\\'/hello\\', methods=[\\'GET\\'])\\ndef hello():\\n    return \"Hello, this is a GET request\"\\n\\n# Route for POST request\\n@app.route(\\'/submit\\', methods=[\\'POST\\'])\\ndef submit():\\n    data = request.form[\\'name\\']\\n    return f\"Hello, {data}! This is a POST request\"\\n'"
            ],
            "application/vnd.google.colaboratory.intrinsic+json": {
              "type": "string"
            }
          },
          "metadata": {},
          "execution_count": 5
        }
      ]
    },
    {
      "cell_type": "code",
      "source": [
        "#4. How do you render HTML templates in Flask?\n",
        "'''\n",
        "from flask import Flask, render_template\n",
        "\n",
        "app = Flask(__name__)\n",
        "\n",
        "@app.route('/')\n",
        "def home():\n",
        "    return render_template('home.html')  # Shows the HTML file\n",
        "'''"
      ],
      "metadata": {
        "colab": {
          "base_uri": "https://localhost:8080/",
          "height": 53
        },
        "id": "li-FFShlBG9d",
        "outputId": "b0cddb2d-4b2a-4eb9-9b1e-8cc797ee8097"
      },
      "execution_count": 6,
      "outputs": [
        {
          "output_type": "execute_result",
          "data": {
            "text/plain": [
              "\"\\nfrom flask import Flask, render_template\\n\\napp = Flask(__name__)\\n\\n@app.route('/')\\ndef home():\\n    return render_template('home.html')  # Shows the HTML file\\n\""
            ],
            "application/vnd.google.colaboratory.intrinsic+json": {
              "type": "string"
            }
          },
          "metadata": {},
          "execution_count": 6
        }
      ]
    },
    {
      "cell_type": "code",
      "source": [
        "#5. How can you generate URLs for routes in Flask using url_for?\n",
        "'''\n",
        "from flask import Flask, url_for\n",
        "\n",
        "app = Flask(__name__)\n",
        "\n",
        "@app.route('/profile')\n",
        "def profile():\n",
        "    return \"This is the profile page\"\n",
        "\n",
        "@app.route('/')\n",
        "def home():\n",
        "    return f\"Go to your <a href='{url_for('profile')}'>Profile</a>\"\n",
        "'''\n"
      ],
      "metadata": {
        "colab": {
          "base_uri": "https://localhost:8080/",
          "height": 53
        },
        "id": "DU64S_kfBUUy",
        "outputId": "c18c3594-3a19-4adc-88bc-291bde8990ed"
      },
      "execution_count": 7,
      "outputs": [
        {
          "output_type": "execute_result",
          "data": {
            "text/plain": [
              "'\\nfrom flask import Flask, url_for\\n\\napp = Flask(__name__)\\n\\n@app.route(\\'/profile\\')\\ndef profile():\\n    return \"This is the profile page\"\\n\\n@app.route(\\'/\\')\\ndef home():\\n    return f\"Go to your <a href=\\'{url_for(\\'profile\\')}\\'>Profile</a>\"\\n'"
            ],
            "application/vnd.google.colaboratory.intrinsic+json": {
              "type": "string"
            }
          },
          "metadata": {},
          "execution_count": 7
        }
      ]
    },
    {
      "cell_type": "code",
      "source": [
        "#6.  How do you handle forms in Flask?\n",
        "'''\n",
        "from flask import Flask, request, render_template\n",
        "\n",
        "app = Flask(__name__)\n",
        "\n",
        "@app.route('/submit', methods=['GET', 'POST'])\n",
        "def submit():\n",
        "    if request.method == 'POST':\n",
        "        name = request.form['username']\n",
        "        return f\"Hello, {name}!\"\n",
        "    return render_template('form.html')\n",
        "'''"
      ],
      "metadata": {
        "colab": {
          "base_uri": "https://localhost:8080/",
          "height": 53
        },
        "id": "VwpwYlICB3YW",
        "outputId": "843c8d26-8bd3-47e4-be61-2f9ef5640695"
      },
      "execution_count": 9,
      "outputs": [
        {
          "output_type": "execute_result",
          "data": {
            "text/plain": [
              "'\\nfrom flask import Flask, request, render_template\\n\\napp = Flask(__name__)\\n\\n@app.route(\\'/submit\\', methods=[\\'GET\\', \\'POST\\'])\\ndef submit():\\n    if request.method == \\'POST\\':\\n        name = request.form[\\'username\\']\\n        return f\"Hello, {name}!\"\\n    return render_template(\\'form.html\\')\\n'"
            ],
            "application/vnd.google.colaboratory.intrinsic+json": {
              "type": "string"
            }
          },
          "metadata": {},
          "execution_count": 9
        }
      ]
    },
    {
      "cell_type": "code",
      "source": [
        "#7. How can you validate form data in Flask?\n",
        "'''\n",
        "from flask import Flask, render_template\n",
        "from flask_wtf import FlaskForm\n",
        "from wtforms import StringField, SubmitField\n",
        "from wtforms.validators import DataRequired\n",
        "\n",
        "app = Flask(__name__)\n",
        "app.secret_key = 'secret'\n",
        "\n",
        "class NameForm(FlaskForm):\n",
        "    name = StringField('Name', validators=[DataRequired()])\n",
        "    submit = SubmitField('Submit')\n",
        "\n",
        "@app.route('/form', methods=['GET', 'POST'])\n",
        "def form():\n",
        "    form = NameForm()\n",
        "    if form.validate_on_submit():\n",
        "        return f\"Hello, {form.name.data}\"\n",
        "    return render_template('form.html', form=form)\n",
        "\n",
        "'''"
      ],
      "metadata": {
        "colab": {
          "base_uri": "https://localhost:8080/",
          "height": 87
        },
        "id": "4A6aut-QCFwc",
        "outputId": "3907b732-ef9e-40ea-a668-63c137b27d6e"
      },
      "execution_count": 10,
      "outputs": [
        {
          "output_type": "execute_result",
          "data": {
            "text/plain": [
              "'\\nfrom flask import Flask, render_template\\nfrom flask_wtf import FlaskForm\\nfrom wtforms import StringField, SubmitField\\nfrom wtforms.validators import DataRequired\\n\\napp = Flask(__name__)\\napp.secret_key = \\'secret\\'\\n\\nclass NameForm(FlaskForm):\\n    name = StringField(\\'Name\\', validators=[DataRequired()])\\n    submit = SubmitField(\\'Submit\\')\\n\\n@app.route(\\'/form\\', methods=[\\'GET\\', \\'POST\\'])\\ndef form():\\n    form = NameForm()\\n    if form.validate_on_submit():\\n        return f\"Hello, {form.name.data}\"\\n    return render_template(\\'form.html\\', form=form)\\n\\n'"
            ],
            "application/vnd.google.colaboratory.intrinsic+json": {
              "type": "string"
            }
          },
          "metadata": {},
          "execution_count": 10
        }
      ]
    },
    {
      "cell_type": "code",
      "source": [
        "#8. How do you manage sessions in Flask?\n",
        "\"\"\"\n",
        "from flask import Flask, session, redirect, url_for, request\n",
        "\n",
        "app = Flask(__name__)\n",
        "app.secret_key = 'mysecretkey'  # Required for sessions\n",
        "\n",
        "@app.route('/login', methods=['POST', 'GET'])\n",
        "def login():\n",
        "    if request.method == 'POST':\n",
        "        session['username'] = request.form['username']\n",
        "        return f\"Logged in as {session['username']}\"\n",
        "    return '''\n",
        "        <form method=\"POST\">\n",
        "            <input type=\"text\" name=\"username\">\n",
        "            <input type=\"submit\">\n",
        "        </form>\n",
        "    '''\n",
        "\n",
        "@app.route('/logout')\n",
        "def logout():\n",
        "    session.pop('username', None)\n",
        "    return \"You have been logged out.\"\n",
        "\n",
        "\"\"\""
      ],
      "metadata": {
        "colab": {
          "base_uri": "https://localhost:8080/",
          "height": 105
        },
        "id": "dKKtgFsPCV4S",
        "outputId": "e321c5d6-2027-4dbf-f640-dbfa0aad1076"
      },
      "execution_count": 13,
      "outputs": [
        {
          "output_type": "execute_result",
          "data": {
            "text/plain": [
              "'\\nfrom flask import Flask, session, redirect, url_for, request\\n\\napp = Flask(__name__)\\napp.secret_key = \\'mysecretkey\\'  # Required for sessions\\n\\n@app.route(\\'/login\\', methods=[\\'POST\\', \\'GET\\'])\\ndef login():\\n    if request.method == \\'POST\\':\\n        session[\\'username\\'] = request.form[\\'username\\']\\n        return f\"Logged in as {session[\\'username\\']}\"\\n    return \\'\\'\\'\\n        <form method=\"POST\">\\n            <input type=\"text\" name=\"username\">\\n            <input type=\"submit\">\\n        </form>\\n    \\'\\'\\'\\n\\n@app.route(\\'/logout\\')\\ndef logout():\\n    session.pop(\\'username\\', None)\\n    return \"You have been logged out.\"\\n\\n'"
            ],
            "application/vnd.google.colaboratory.intrinsic+json": {
              "type": "string"
            }
          },
          "metadata": {},
          "execution_count": 13
        }
      ]
    },
    {
      "cell_type": "code",
      "source": [
        "#9.  How do you redirect to a different route in Flask?\n",
        "'''\n",
        "from flask import Flask, redirect, url_for\n",
        "\n",
        "app = Flask(__name__)\n",
        "\n",
        "@app.route('/')\n",
        "def home():\n",
        "    return \"This is the home page.\"\n",
        "\n",
        "@app.route('/login')\n",
        "def login():\n",
        "    # After login, redirect to the profile page\n",
        "    return redirect(url_for('profile'))\n",
        "\n",
        "@app.route('/profile')\n",
        "def profile():\n",
        "    return \"Welcome to your profile!\"\n",
        "\n",
        "'''"
      ],
      "metadata": {
        "colab": {
          "base_uri": "https://localhost:8080/",
          "height": 70
        },
        "id": "vDGDgOS0CfzW",
        "outputId": "cabd8d75-af1a-4512-a437-bac86544a7d6"
      },
      "execution_count": 14,
      "outputs": [
        {
          "output_type": "execute_result",
          "data": {
            "text/plain": [
              "'\\nfrom flask import Flask, redirect, url_for\\n\\napp = Flask(__name__)\\n\\n@app.route(\\'/\\')\\ndef home():\\n    return \"This is the home page.\"\\n\\n@app.route(\\'/login\\')\\ndef login():\\n    # After login, redirect to the profile page\\n    return redirect(url_for(\\'profile\\'))\\n\\n@app.route(\\'/profile\\')\\ndef profile():\\n    return \"Welcome to your profile!\"\\n\\n'"
            ],
            "application/vnd.google.colaboratory.intrinsic+json": {
              "type": "string"
            }
          },
          "metadata": {},
          "execution_count": 14
        }
      ]
    },
    {
      "cell_type": "code",
      "source": [
        "#10. How do you handle errors in Flask (e.g., 404)?\n",
        "'''\n",
        "@app.errorhandler(500)\n",
        "def internal_error(e):\n",
        "    return render_template(\"500.html\"), 500\n",
        "\n",
        "'''"
      ],
      "metadata": {
        "colab": {
          "base_uri": "https://localhost:8080/",
          "height": 35
        },
        "id": "nHWAbyTUC3NF",
        "outputId": "fbd37507-c9e9-4e39-8145-9bd1aa04fef9"
      },
      "execution_count": 15,
      "outputs": [
        {
          "output_type": "execute_result",
          "data": {
            "text/plain": [
              "'\\n@app.errorhandler(500)\\ndef internal_error(e):\\n    return render_template(\"500.html\"), 500\\n\\n'"
            ],
            "application/vnd.google.colaboratory.intrinsic+json": {
              "type": "string"
            }
          },
          "metadata": {},
          "execution_count": 15
        }
      ]
    },
    {
      "cell_type": "code",
      "source": [
        "#11. How do you structure a Flask app using Blueprints?\n",
        "'''\n",
        "from flask import Blueprint\n",
        "\n",
        "user_bp = Blueprint('user', __name__)\n",
        "\n",
        "@user_bp.route('/profile')\n",
        "def profile():\n",
        "    return \"This is the user profile page\"\n",
        "\n",
        "'''"
      ],
      "metadata": {
        "colab": {
          "base_uri": "https://localhost:8080/",
          "height": 53
        },
        "id": "BCZvDtANDM1f",
        "outputId": "9ea98f2f-3be6-4373-ffcc-a987db4771d8"
      },
      "execution_count": 16,
      "outputs": [
        {
          "output_type": "execute_result",
          "data": {
            "text/plain": [
              "'\\nfrom flask import Blueprint\\n\\nuser_bp = Blueprint(\\'user\\', __name__)\\n\\n@user_bp.route(\\'/profile\\')\\ndef profile():\\n    return \"This is the user profile page\"\\n\\n'"
            ],
            "application/vnd.google.colaboratory.intrinsic+json": {
              "type": "string"
            }
          },
          "metadata": {},
          "execution_count": 16
        }
      ]
    },
    {
      "cell_type": "code",
      "source": [
        "#12. How do you define a custom Jinja filter in Flask?\n",
        "'''\n",
        "from flask import Flask, render_template\n",
        "\n",
        "app = Flask(__name__)\n",
        "\n",
        "# Step 1: Define a filter function\n",
        "def reverse_string(s):\n",
        "    return s[::-1]\n",
        "\n",
        "# Step 2: Register the filter with Flask\n",
        "app.add_template_filter(reverse_string, name='reverse')\n",
        "\n",
        "'''"
      ],
      "metadata": {
        "colab": {
          "base_uri": "https://localhost:8080/",
          "height": 53
        },
        "id": "e2mSr3a3Dj-K",
        "outputId": "893204e8-3ac3-45d6-ea7e-425bb673fbb4"
      },
      "execution_count": 17,
      "outputs": [
        {
          "output_type": "execute_result",
          "data": {
            "text/plain": [
              "\"\\nfrom flask import Flask, render_template\\n\\napp = Flask(__name__)\\n\\n# Step 1: Define a filter function\\ndef reverse_string(s):\\n    return s[::-1]\\n\\n# Step 2: Register the filter with Flask\\napp.add_template_filter(reverse_string, name='reverse')\\n\\n\""
            ],
            "application/vnd.google.colaboratory.intrinsic+json": {
              "type": "string"
            }
          },
          "metadata": {},
          "execution_count": 17
        }
      ]
    },
    {
      "cell_type": "code",
      "source": [
        "#13.  How can you redirect with query parameters in Flask?\n",
        "'''\n",
        "from flask import Flask, redirect, url_for, request\n",
        "\n",
        "app = Flask(__name__)\n",
        "\n",
        "@app.route('/go')\n",
        "def go():\n",
        "    # Redirect to /profile with query parameters\n",
        "    return redirect(url_for('profile', name='Om', age=19))\n",
        "\n",
        "@app.route('/profile')\n",
        "def profile():\n",
        "    # Get query parameters from URL\n",
        "    name = request.args.get('name')\n",
        "    age = request.args.get('age')\n",
        "    return f\"Name: {name}, Age: {age}\"\n",
        "\n",
        "'''"
      ],
      "metadata": {
        "colab": {
          "base_uri": "https://localhost:8080/",
          "height": 70
        },
        "id": "-0mE7khBD8RA",
        "outputId": "36005da3-a00c-4a77-dc15-be51287ae2d3"
      },
      "execution_count": 18,
      "outputs": [
        {
          "output_type": "execute_result",
          "data": {
            "text/plain": [
              "'\\nfrom flask import Flask, redirect, url_for, request\\n\\napp = Flask(__name__)\\n\\n@app.route(\\'/go\\')\\ndef go():\\n    # Redirect to /profile with query parameters\\n    return redirect(url_for(\\'profile\\', name=\\'Om\\', age=19))\\n\\n@app.route(\\'/profile\\')\\ndef profile():\\n    # Get query parameters from URL\\n    name = request.args.get(\\'name\\')\\n    age = request.args.get(\\'age\\')\\n    return f\"Name: {name}, Age: {age}\"\\n\\n'"
            ],
            "application/vnd.google.colaboratory.intrinsic+json": {
              "type": "string"
            }
          },
          "metadata": {},
          "execution_count": 18
        }
      ]
    },
    {
      "cell_type": "code",
      "source": [
        "#14. How do you return JSON responses in Flask?\n",
        "'''\n",
        "from flask import Flask, jsonify\n",
        "\n",
        "app = Flask(__name__)\n",
        "\n",
        "@app.route('/api/data')\n",
        "def get_data():\n",
        "    data = {\n",
        "        'name': 'Om',\n",
        "        'age': 19,\n",
        "        'status': 'student'\n",
        "    }\n",
        "    return jsonify(data)\n",
        "\n",
        "'''"
      ],
      "metadata": {
        "colab": {
          "base_uri": "https://localhost:8080/",
          "height": 53
        },
        "id": "em21tAipEQI7",
        "outputId": "0b0dc2ca-22e8-4f93-8944-b8af2ab3f15b"
      },
      "execution_count": 19,
      "outputs": [
        {
          "output_type": "execute_result",
          "data": {
            "text/plain": [
              "\"\\nfrom flask import Flask, jsonify\\n\\napp = Flask(__name__)\\n\\n@app.route('/api/data')\\ndef get_data():\\n    data = {\\n        'name': 'Om',\\n        'age': 19,\\n        'status': 'student'\\n    }\\n    return jsonify(data)\\n\\n\""
            ],
            "application/vnd.google.colaboratory.intrinsic+json": {
              "type": "string"
            }
          },
          "metadata": {},
          "execution_count": 19
        }
      ]
    },
    {
      "cell_type": "code",
      "source": [
        "#15. How do you capture URL parameters in Flask?\n",
        "'''\n",
        "from flask import Flask\n",
        "\n",
        "app = Flask(__name__)\n",
        "\n",
        "@app.route('/user/<username>')\n",
        "def show_user(username):\n",
        "    return f\"Hello, {username}!\"\n",
        "\n",
        "'''"
      ],
      "metadata": {
        "colab": {
          "base_uri": "https://localhost:8080/",
          "height": 35
        },
        "id": "TKaQF9C-EYND",
        "outputId": "228dfaa5-6e8c-4992-fa1e-dd79b49605b6"
      },
      "execution_count": 20,
      "outputs": [
        {
          "output_type": "execute_result",
          "data": {
            "text/plain": [
              "'\\nfrom flask import Flask\\n\\napp = Flask(__name__)\\n\\n@app.route(\\'/user/<username>\\')\\ndef show_user(username):\\n    return f\"Hello, {username}!\"\\n\\n'"
            ],
            "application/vnd.google.colaboratory.intrinsic+json": {
              "type": "string"
            }
          },
          "metadata": {},
          "execution_count": 20
        }
      ]
    },
    {
      "cell_type": "code",
      "source": [],
      "metadata": {
        "id": "Bv3CRiKVEhEo"
      },
      "execution_count": null,
      "outputs": []
    }
  ]
}